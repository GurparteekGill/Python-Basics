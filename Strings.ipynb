{
 "cells": [
  {
   "cell_type": "raw",
   "id": "06b3cc62",
   "metadata": {},
   "source": [
    " #  Indexing \n",
    " \n",
    "\n",
    "   0  1  2  3  4   5 => Positive Indexing \n",
    "   \n",
    "#  P  y  t  h  o   n\n",
    "              \n",
    "  -6 -5  -4 -3 -2 -1 => Negative Indexing \n",
    "  "
   ]
  },
  {
   "cell_type": "code",
   "execution_count": 1,
   "id": "215e970b",
   "metadata": {},
   "outputs": [],
   "source": [
    "h= 'Hello Gurparteek'\n"
   ]
  },
  {
   "cell_type": "code",
   "execution_count": 3,
   "id": "92b96261",
   "metadata": {},
   "outputs": [
    {
     "name": "stdout",
     "output_type": "stream",
     "text": [
      "H\n"
     ]
    }
   ],
   "source": [
    "print(h[0])"
   ]
  },
  {
   "cell_type": "code",
   "execution_count": 4,
   "id": "06fb93b0",
   "metadata": {},
   "outputs": [
    {
     "name": "stdout",
     "output_type": "stream",
     "text": [
      "p\n"
     ]
    }
   ],
   "source": [
    "print(h[9])"
   ]
  },
  {
   "cell_type": "code",
   "execution_count": 9,
   "id": "39bc36ac",
   "metadata": {},
   "outputs": [
    {
     "name": "stdout",
     "output_type": "stream",
     "text": [
      "HelloGurparteek\n",
      "Hello Gurparteek\n",
      "Gurparteek  Gurparteek  Gurparteek  Gurparteek  Gurparteek  Gurparteek  Gurparteek  Gurparteek  Gurparteek  Gurparteek  Gurparteek  Gurparteek  Gurparteek  Gurparteek  Gurparteek  \n"
     ]
    }
   ],
   "source": [
    "#String Concatenation\n",
    "\n",
    "h1= \"Hello\"\n",
    "h2= \"Gurparteek\"\n",
    "\n",
    "print(h1 + h2)\n",
    "print(h1 + \" \" + h2)\n",
    "\n",
    "\n",
    "print(\"Gurparteek  \" * 15)\n"
   ]
  },
  {
   "cell_type": "code",
   "execution_count": 18,
   "id": "6c1d077a",
   "metadata": {},
   "outputs": [
    {
     "name": "stdout",
     "output_type": "stream",
     "text": [
      "N\n",
      "Namaste\n",
      "India\n",
      "e India\n",
      "Namaste \n",
      "ste\n"
     ]
    }
   ],
   "source": [
    "#String Slicing\n",
    "\n",
    "\n",
    "\n",
    "g=\"Namaste India\"\n",
    "#  01234567\n",
    "print(g[0])\n",
    "\n",
    "print(g[0:7]) #   You have to include +1 ,To do correct slicing. \n",
    "print(g[-5:]) #    Another Way\n",
    "\n",
    "print(g[6:])\n",
    "print(g[:-5]) \n",
    "\n",
    "print(g[4:7])"
   ]
  },
  {
   "cell_type": "code",
   "execution_count": 2,
   "id": "e2860e54",
   "metadata": {},
   "outputs": [
    {
     "name": "stdout",
     "output_type": "stream",
     "text": [
      "HELLO PITI\n",
      "hello piti\n"
     ]
    }
   ],
   "source": [
    "# Basic Built-in String Methods\n",
    "\n",
    "#Everything in python is an object. Objects in python usually have built-in-methods.\n",
    "#Methods are in this form:-\n",
    " #   object.method(parameters)\n",
    "    \n",
    "i= \"Hello Piti\"\n",
    "\n",
    "print(i.upper())\n",
    "print(i.lower())\n",
    "    \n",
    "    \n",
    "    "
   ]
  },
  {
   "cell_type": "code",
   "execution_count": 6,
   "id": "fd4da78b",
   "metadata": {},
   "outputs": [
    {
     "name": "stdout",
     "output_type": "stream",
     "text": [
      "My name is Gurparteek,my age is  20, and it is False that I am shaddi Shudda\n",
      "My name is Gurparteek,my age is  20, and it is False that I am shaddi Shudda\n",
      "My name is Gurparteek, my age is 20\n"
     ]
    }
   ],
   "source": [
    "#Print Formatting \n",
    "\n",
    "#we can use the .format()  method to add formatted objects to printing string statements.\n",
    "\n",
    "\n",
    "name=\"Gurparteek\"\n",
    "age= 20\n",
    "married= False\n",
    "\n",
    "print(\"My name is %s,my age is  %s, and it is %s that I am shaddi Shudda\" % (name,age,married))\n",
    "print(\"My name is {},my age is  {}, and it is {} that I am shaddi Shudda\".format(name,age,married))\n",
    "print(f\"My name is {name}, my age is {age}\")\n",
    "\n"
   ]
  },
  {
   "cell_type": "code",
   "execution_count": null,
   "id": "3bbe9130",
   "metadata": {},
   "outputs": [],
   "source": []
  }
 ],
 "metadata": {
  "kernelspec": {
   "display_name": "Python 3 (ipykernel)",
   "language": "python",
   "name": "python3"
  },
  "language_info": {
   "codemirror_mode": {
    "name": "ipython",
    "version": 3
   },
   "file_extension": ".py",
   "mimetype": "text/x-python",
   "name": "python",
   "nbconvert_exporter": "python",
   "pygments_lexer": "ipython3",
   "version": "3.10.2"
  }
 },
 "nbformat": 4,
 "nbformat_minor": 5
}
