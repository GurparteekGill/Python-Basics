{
 "cells": [
  {
   "cell_type": "code",
   "execution_count": 4,
   "id": "1329f37e",
   "metadata": {},
   "outputs": [
    {
     "data": {
      "text/plain": [
       "{1, 2, 3}"
      ]
     },
     "execution_count": 4,
     "metadata": {},
     "output_type": "execute_result"
    }
   ],
   "source": [
    "# In the list you can have Duplicate elements\n",
    "# In the Dictionary you can have duplicate values but not keys\n",
    "\n",
    "# Set are an unordered collection of Unique elements. WE can construct them by using the set()function.\n",
    "# Set theory  A INTERSACT B\n",
    "\n",
    "l=[1,1,1,1,2,2,3,3,3]\n",
    "l_set= set(l) # Converting The List into Set\n",
    "l_set # We get only uniue elements"
   ]
  },
  {
   "cell_type": "code",
   "execution_count": 14,
   "id": "7935bcbd",
   "metadata": {},
   "outputs": [
    {
     "name": "stdout",
     "output_type": "stream",
     "text": [
      "{1, 2, 3}\n",
      "<class 'set'>\n"
     ]
    }
   ],
   "source": [
    "x=set()\n",
    "x.add(1) # add function is used to add elemet inside a set\n",
    "x.add(1)\n",
    "x.add(2)\n",
    "x.add(2)\n",
    "x.add(3)\n",
    "print(x)        # Note : Curly brackets does not indicate that it is a dictionary\n",
    "print(type(x))"
   ]
  },
  {
   "cell_type": "code",
   "execution_count": 15,
   "id": "a8956958",
   "metadata": {},
   "outputs": [
    {
     "name": "stdout",
     "output_type": "stream",
     "text": [
      "{1, 2}\n"
     ]
    }
   ],
   "source": [
    "# Remove function is used to remove \n",
    "x.remove(3)\n",
    "print(x)"
   ]
  },
  {
   "cell_type": "code",
   "execution_count": 17,
   "id": "e4a3d773",
   "metadata": {},
   "outputs": [
    {
     "data": {
      "text/plain": [
       "{1, 2, 3, 4, 5, 6}"
      ]
     },
     "execution_count": 17,
     "metadata": {},
     "output_type": "execute_result"
    }
   ],
   "source": [
    "# Creating a List set with repeatas\n",
    "l= [1,1,2,2,3,3,4,5,6,1,1] # we ignore the last 1,1 beacuse we can cast the list \n",
    "set(l)"
   ]
  },
  {
   "cell_type": "code",
   "execution_count": null,
   "id": "19ce2b27",
   "metadata": {},
   "outputs": [],
   "source": []
  }
 ],
 "metadata": {
  "kernelspec": {
   "display_name": "Python 3 (ipykernel)",
   "language": "python",
   "name": "python3"
  },
  "language_info": {
   "codemirror_mode": {
    "name": "ipython",
    "version": 3
   },
   "file_extension": ".py",
   "mimetype": "text/x-python",
   "name": "python",
   "nbconvert_exporter": "python",
   "pygments_lexer": "ipython3",
   "version": "3.10.2"
  }
 },
 "nbformat": 4,
 "nbformat_minor": 5
}
