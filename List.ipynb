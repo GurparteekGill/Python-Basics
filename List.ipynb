{
 "cells": [
  {
   "cell_type": "code",
   "execution_count": null,
   "id": "e1636100",
   "metadata": {},
   "outputs": [],
   "source": []
  },
  {
   "cell_type": "code",
   "execution_count": null,
   "id": "c0678503",
   "metadata": {},
   "outputs": [],
   "source": []
  },
  {
   "cell_type": "markdown",
   "id": "072a4780",
   "metadata": {},
   "source": [
    "# Lists\n",
    "Lists can be thought of the most general version of a sequence in Python.\n",
    "\n",
    "\n",
    "\n"
   ]
  },
  {
   "cell_type": "code",
   "execution_count": 2,
   "id": "12251f30",
   "metadata": {},
   "outputs": [],
   "source": [
    "my_list= [1,2,3,4,5,6,7]\n"
   ]
  },
  {
   "cell_type": "code",
   "execution_count": 2,
   "id": "0c2ef115",
   "metadata": {},
   "outputs": [
    {
     "data": {
      "text/plain": [
       "4"
      ]
     },
     "execution_count": 2,
     "metadata": {},
     "output_type": "execute_result"
    }
   ],
   "source": [
    "my_list[3]"
   ]
  },
  {
   "cell_type": "code",
   "execution_count": 3,
   "id": "2832c114",
   "metadata": {},
   "outputs": [
    {
     "data": {
      "text/plain": [
       "7"
      ]
     },
     "execution_count": 3,
     "metadata": {},
     "output_type": "execute_result"
    }
   ],
   "source": [
    "len(my_list)"
   ]
  },
  {
   "cell_type": "code",
   "execution_count": 4,
   "id": "16e664e7",
   "metadata": {},
   "outputs": [
    {
     "data": {
      "text/plain": [
       "2"
      ]
     },
     "execution_count": 4,
     "metadata": {},
     "output_type": "execute_result"
    }
   ],
   "source": [
    "my_list[1]"
   ]
  },
  {
   "cell_type": "code",
   "execution_count": 19,
   "id": "b88c2ddc",
   "metadata": {},
   "outputs": [
    {
     "name": "stdout",
     "output_type": "stream",
     "text": [
      "['one', 'two', 'three', 4, 5]\n",
      "[4, 5, 'Joke']\n"
     ]
    }
   ],
   "source": [
    "# Adding Element into the List\n",
    "my_listy= ['one','two','three',4,5]\n",
    "second=[4,5,'Joke']\n",
    "print(my_listy)\n",
    "print(second)\n"
   ]
  },
  {
   "cell_type": "code",
   "execution_count": 22,
   "id": "0c4f68a2",
   "metadata": {},
   "outputs": [
    {
     "name": "stdout",
     "output_type": "stream",
     "text": [
      "[4, 5, 'Joke', 'jack', 'jack']\n"
     ]
    }
   ],
   "source": [
    "second.append(\"jack\")\n",
    "print(second)\n",
    "\n",
    "\n"
   ]
  },
  {
   "cell_type": "code",
   "execution_count": 26,
   "id": "39c0a9ca",
   "metadata": {},
   "outputs": [
    {
     "name": "stdout",
     "output_type": "stream",
     "text": [
      "[1, 2, ['jack', 'kol'], 3.5]\n",
      "[1, 2, ['jack', 'kol'], 3.5, '4']\n"
     ]
    }
   ],
   "source": [
    "double_list=[1,2,[\"jack\",\"kol\"],3.5]\n",
    "print(double_list)\n",
    "double_list.append(\"4\")\n",
    "print(double_list)\n"
   ]
  },
  {
   "cell_type": "code",
   "execution_count": 38,
   "id": "e63df1da",
   "metadata": {},
   "outputs": [],
   "source": [
    "# Difference between append and Extend\n",
    "\n",
    "   # append = If we use append on the list then it will add the exact value at the end of the lsit.\n",
    "   # extend= extend function will extract the entire value and then put the elements individually at the end of that list."
   ]
  },
  {
   "cell_type": "code",
   "execution_count": 39,
   "id": "bde01774",
   "metadata": {},
   "outputs": [
    {
     "name": "stdout",
     "output_type": "stream",
     "text": [
      "[1, 2, 3, 4, 5, [7, 8, 9]]\n",
      "[7, 8, 9]\n"
     ]
    }
   ],
   "source": [
    "l=[1,2,3,4,5]\n",
    "l.append([7,8,9])\n",
    "print(l)\n",
    "print(l[5])"
   ]
  },
  {
   "cell_type": "code",
   "execution_count": 40,
   "id": "adad9d35",
   "metadata": {},
   "outputs": [
    {
     "name": "stdout",
     "output_type": "stream",
     "text": [
      "[1, 2, 3, 4, 5, 6, 7, 8, 9]\n",
      "6\n"
     ]
    }
   ],
   "source": [
    "e=[1,2,3,4,5]\n",
    "e.extend([6,7,8,9])\n",
    "print(e)\n",
    "print(e[5])"
   ]
  },
  {
   "cell_type": "code",
   "execution_count": 44,
   "id": "681b7d3e",
   "metadata": {},
   "outputs": [
    {
     "data": {
      "text/plain": [
       "' list_object[start:end:step] or\\n    list_object[start:end]\\n    '"
      ]
     },
     "execution_count": 44,
     "metadata": {},
     "output_type": "execute_result"
    }
   ],
   "source": [
    "# List Slicing\n",
    "\n",
    "\n",
    "# Syntax of Slicing List:-\n",
    "# list_object[start:end:step] or\n",
    "#    list_object[start:end]\n",
    "    \n"
   ]
  },
  {
   "cell_type": "code",
   "execution_count": 42,
   "id": "01096399",
   "metadata": {},
   "outputs": [
    {
     "data": {
      "text/plain": [
       "[0, 1, 2, 3, 4, 5, 6, 7, 8, 9]"
      ]
     },
     "execution_count": 42,
     "metadata": {},
     "output_type": "execute_result"
    }
   ],
   "source": [
    "l=list(range(10))\n",
    "l"
   ]
  },
  {
   "cell_type": "code",
   "execution_count": 49,
   "id": "97d41ff9",
   "metadata": {},
   "outputs": [
    {
     "name": "stdout",
     "output_type": "stream",
     "text": [
      "[0, 2, 4, 6, 8]\n",
      "[0, 3, 6, 9]\n"
     ]
    }
   ],
   "source": [
    "l[4:8]\n",
    "gap=l[0:10:2]  # Every Third Element\n",
    "gap2=l[0:10:3] # Every second element\n",
    "print(gap)\n",
    "print(gap2)\n"
   ]
  },
  {
   "cell_type": "code",
   "execution_count": 50,
   "id": "0d6c4eab",
   "metadata": {},
   "outputs": [
    {
     "data": {
      "text/plain": [
       "[0, 1, 2, 'piti', 3, 4, 5, 6, 7, 8, 9]"
      ]
     },
     "execution_count": 50,
     "metadata": {},
     "output_type": "execute_result"
    }
   ],
   "source": [
    "l.insert(3,\"piti\")\n",
    "l"
   ]
  },
  {
   "cell_type": "code",
   "execution_count": null,
   "id": "67426303",
   "metadata": {},
   "outputs": [],
   "source": [
    "# 3 Functions\n",
    "\n",
    "   #append = If we use append on the list then it will add the exact value at the end of the lsit.\n",
    "   #extend= extend function will extract the entire value and then put the elements individually at the end of that list.\n",
    "   #insert= inserts the element at the given index"
   ]
  }
 ],
 "metadata": {
  "kernelspec": {
   "display_name": "Python 3 (ipykernel)",
   "language": "python",
   "name": "python3"
  },
  "language_info": {
   "codemirror_mode": {
    "name": "ipython",
    "version": 3
   },
   "file_extension": ".py",
   "mimetype": "text/x-python",
   "name": "python",
   "nbconvert_exporter": "python",
   "pygments_lexer": "ipython3",
   "version": "3.10.2"
  }
 },
 "nbformat": 4,
 "nbformat_minor": 5
}
