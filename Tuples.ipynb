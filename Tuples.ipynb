{
 "cells": [
  {
   "cell_type": "code",
   "execution_count": 3,
   "id": "56f24a83",
   "metadata": {},
   "outputs": [
    {
     "name": "stdout",
     "output_type": "stream",
     "text": [
      "('black', 'green', 'white', 'green')\n",
      "green\n"
     ]
    }
   ],
   "source": [
    "#Tuples are used to store mutiple items in a single variable.\n",
    "#Tuple is one of 4 built-in data types in python used to store collections of data.The other 3 are list,set,dictionary\n",
    "#   all with different qualtites and usage.\n",
    "# A tuple is a collections which is ordered and unchangle\n",
    "# Tuple are written with round brackets.\n",
    "# Tuples items allow Duplication\n",
    "\n",
    "tuple= (\"black\",\"green\",\"white\",\"green\")\n",
    "print(tuple)\n",
    "print(tuple[3])\n",
    "\n"
   ]
  },
  {
   "cell_type": "code",
   "execution_count": null,
   "id": "82085955",
   "metadata": {},
   "outputs": [],
   "source": []
  }
 ],
 "metadata": {
  "kernelspec": {
   "display_name": "Python 3 (ipykernel)",
   "language": "python",
   "name": "python3"
  },
  "language_info": {
   "codemirror_mode": {
    "name": "ipython",
    "version": 3
   },
   "file_extension": ".py",
   "mimetype": "text/x-python",
   "name": "python",
   "nbconvert_exporter": "python",
   "pygments_lexer": "ipython3",
   "version": "3.10.2"
  }
 },
 "nbformat": 4,
 "nbformat_minor": 5
}
