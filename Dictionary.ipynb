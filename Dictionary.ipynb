{
 "cells": [
  {
   "cell_type": "code",
   "execution_count": 1,
   "id": "a5faefa7",
   "metadata": {},
   "outputs": [
    {
     "data": {
      "text/plain": [
       "{'key1': 'value1', 'key2': 'value2'}"
      ]
     },
     "execution_count": 1,
     "metadata": {},
     "output_type": "execute_result"
    }
   ],
   "source": [
    "mydict={'key1': 'value1','key2':'value2'}\n",
    "mydict"
   ]
  },
  {
   "cell_type": "code",
   "execution_count": 2,
   "id": "07d569df",
   "metadata": {},
   "outputs": [
    {
     "data": {
      "text/plain": [
       "'value2'"
      ]
     },
     "execution_count": 2,
     "metadata": {},
     "output_type": "execute_result"
    }
   ],
   "source": [
    "mydict['key2']"
   ]
  },
  {
   "cell_type": "code",
   "execution_count": 3,
   "id": "759f4386",
   "metadata": {},
   "outputs": [],
   "source": [
    "#We can change the key value in this way also\n",
    "\n",
    "mydict['key2']=123"
   ]
  },
  {
   "cell_type": "code",
   "execution_count": 4,
   "id": "8be6d944",
   "metadata": {},
   "outputs": [
    {
     "data": {
      "text/plain": [
       "{'key1': 'value1', 'key2': 123}"
      ]
     },
     "execution_count": 4,
     "metadata": {},
     "output_type": "execute_result"
    }
   ],
   "source": [
    "mydict"
   ]
  },
  {
   "cell_type": "code",
   "execution_count": 5,
   "id": "1643849c",
   "metadata": {},
   "outputs": [
    {
     "data": {
      "text/plain": [
       "'value1'"
      ]
     },
     "execution_count": 5,
     "metadata": {},
     "output_type": "execute_result"
    }
   ],
   "source": [
    "mydict['key1']"
   ]
  },
  {
   "cell_type": "code",
   "execution_count": 9,
   "id": "dedeb3f7",
   "metadata": {},
   "outputs": [
    {
     "data": {
      "text/plain": [
       "89"
      ]
     },
     "execution_count": 9,
     "metadata": {},
     "output_type": "execute_result"
    }
   ],
   "source": [
    "# we can also subtract the value from an dictionary value\n",
    "mydict['key2']-34\n",
    "\n",
    "\n"
   ]
  },
  {
   "cell_type": "code",
   "execution_count": 10,
   "id": "8fc5fb50",
   "metadata": {},
   "outputs": [],
   "source": [
    "my_new_dict={'name':[\"Gurparteek\",\"Varun\",\"Shubam\"],\"surname\":[\"Gill\",\"Shah\",\"Sharma\"],\"age\":[25,25,45]}"
   ]
  },
  {
   "cell_type": "code",
   "execution_count": 18,
   "id": "731ae4d4",
   "metadata": {},
   "outputs": [
    {
     "name": "stdout",
     "output_type": "stream",
     "text": [
      "Varun\n",
      "Shah\n",
      "25\n",
      "Sharma\n"
     ]
    }
   ],
   "source": [
    "print(my_new_dict['name'][1])\n",
    "print(my_new_dict['surname'][1])\n",
    "print(my_new_dict['age'][1])\n",
    "\n",
    "# Slicing In Dictionary\n",
    "print(my_new_dict['surname'][-1])\n",
    "\n"
   ]
  },
  {
   "cell_type": "code",
   "execution_count": 19,
   "id": "66c3ef35",
   "metadata": {},
   "outputs": [
    {
     "data": {
      "text/plain": [
       "{'key1': 'value1', 'key2': 423}"
      ]
     },
     "execution_count": 19,
     "metadata": {},
     "output_type": "execute_result"
    }
   ],
   "source": [
    "\n",
    "# Python has a bulit in method of doing a self subtraction or addition or * / . we could have also used += or -= above statement.\n",
    "mydict['key2']+=300\n",
    "mydict\n"
   ]
  },
  {
   "cell_type": "code",
   "execution_count": 21,
   "id": "4203e9e9",
   "metadata": {},
   "outputs": [
    {
     "name": "stdout",
     "output_type": "stream",
     "text": [
      "{'name': ['Gurparteek', 'Varun', 'Shubam'], 'surname': ['Gill', 'Shah', 'Sharma'], 'age': [25, 25, 45], 'Country': ['India', 'China', 'POK']}\n"
     ]
    }
   ],
   "source": [
    "# Can also add a new Key in a already created Dictionary\n",
    "\n",
    "my_new_dict['Country']=['India','China', 'POK']\n",
    "print(my_new_dict)"
   ]
  },
  {
   "cell_type": "code",
   "execution_count": 25,
   "id": "03d1c35d",
   "metadata": {},
   "outputs": [
    {
     "data": {
      "text/plain": [
       "{'Cricketers': ['Jaddu', 'Siraj']}"
      ]
     },
     "execution_count": 25,
     "metadata": {},
     "output_type": "execute_result"
    }
   ],
   "source": [
    "# Another way to create a Dictionary\n",
    "\n",
    "d={}\n",
    "d['Cricketers']='kohli'\n",
    "d['Cricketers']=['Jaddu','Siraj']\n",
    "\n",
    "d"
   ]
  },
  {
   "cell_type": "code",
   "execution_count": null,
   "id": "0e1a541e",
   "metadata": {},
   "outputs": [],
   "source": []
  }
 ],
 "metadata": {
  "kernelspec": {
   "display_name": "Python 3 (ipykernel)",
   "language": "python",
   "name": "python3"
  },
  "language_info": {
   "codemirror_mode": {
    "name": "ipython",
    "version": 3
   },
   "file_extension": ".py",
   "mimetype": "text/x-python",
   "name": "python",
   "nbconvert_exporter": "python",
   "pygments_lexer": "ipython3",
   "version": "3.10.2"
  }
 },
 "nbformat": 4,
 "nbformat_minor": 5
}
