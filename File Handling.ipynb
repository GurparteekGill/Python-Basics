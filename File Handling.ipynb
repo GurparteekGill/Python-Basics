{
 "cells": [
  {
   "cell_type": "code",
   "execution_count": 3,
   "id": "6d61ecca",
   "metadata": {},
   "outputs": [],
   "source": [
    "with open(\"filez.txt\", 'w') as f:\n",
    "    f.write(\"This is my file \\n\")\n",
    "    f.write(\"Second Line \\n\")"
   ]
  },
  {
   "cell_type": "code",
   "execution_count": 4,
   "id": "d492aa6b",
   "metadata": {},
   "outputs": [],
   "source": [
    "with open(\"filez.txt\", 'a') as f:\n",
    "    f.write(\"Third line\\n\")"
   ]
  },
  {
   "cell_type": "code",
   "execution_count": 6,
   "id": "ee7d3c3b",
   "metadata": {},
   "outputs": [
    {
     "name": "stdout",
     "output_type": "stream",
     "text": [
      "This is my file \n",
      "\n",
      "Second Line \n",
      "\n",
      "Third line\n",
      "\n"
     ]
    }
   ],
   "source": [
    "with open(\"filez.txt\",'r') as f:\n",
    "    for line in f:                       #r= for read\n",
    "        print(line)                      #w= for write\n",
    "                                         #a= to append in the existing ffile\n",
    "    f.close()# To close the file in the background"
   ]
  },
  {
   "cell_type": "code",
   "execution_count": null,
   "id": "694c5bed",
   "metadata": {},
   "outputs": [],
   "source": []
  }
 ],
 "metadata": {
  "kernelspec": {
   "display_name": "Python 3 (ipykernel)",
   "language": "python",
   "name": "python3"
  },
  "language_info": {
   "codemirror_mode": {
    "name": "ipython",
    "version": 3
   },
   "file_extension": ".py",
   "mimetype": "text/x-python",
   "name": "python",
   "nbconvert_exporter": "python",
   "pygments_lexer": "ipython3",
   "version": "3.10.2"
  }
 },
 "nbformat": 4,
 "nbformat_minor": 5
}
