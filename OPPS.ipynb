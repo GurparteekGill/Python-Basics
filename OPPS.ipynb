{
 "cells": [
  {
   "cell_type": "markdown",
   "id": "b2140dc8",
   "metadata": {},
   "source": [
    "# Objects\n",
    "In Python, everything is an object"
   ]
  },
  {
   "cell_type": "code",
   "execution_count": 2,
   "id": "8be4225f",
   "metadata": {},
   "outputs": [
    {
     "data": {
      "text/plain": [
       "str"
      ]
     },
     "execution_count": 2,
     "metadata": {},
     "output_type": "execute_result"
    }
   ],
   "source": [
    "s= \"Hello \"\n",
    "type(s)"
   ]
  },
  {
   "cell_type": "code",
   "execution_count": 3,
   "id": "9be979cb",
   "metadata": {},
   "outputs": [
    {
     "data": {
      "text/plain": [
       "'hello '"
      ]
     },
     "execution_count": 3,
     "metadata": {},
     "output_type": "execute_result"
    }
   ],
   "source": [
    "s.lower() "
   ]
  },
  {
   "cell_type": "markdown",
   "id": "f65360f9",
   "metadata": {},
   "source": [
    "The user defined objects are created using the class keyword. The class is a blueprint that defines a nature of a future object. From classes we can construct instances. An instance is a specific object created from a particular class."
   ]
  },
  {
   "cell_type": "code",
   "execution_count": 7,
   "id": "de2970f8",
   "metadata": {},
   "outputs": [
    {
     "name": "stdout",
     "output_type": "stream",
     "text": [
      "<class '__main__.sample'>\n"
     ]
    }
   ],
   "source": [
    "class sample():  # This is an object having name as sample\n",
    "    pass\n",
    "    \n",
    "    \n",
    "y=sample()    # TThis is an Instance of object(sample)\n",
    "print(type(y))    \n",
    " "
   ]
  },
  {
   "cell_type": "markdown",
   "id": "7134e962",
   "metadata": {},
   "source": [
    "# Attribute and Method\n",
    "\n",
    "An attribute is a characteristic of an object. A method is an operation we can perform with the object.\n",
    "\n",
    "For example we can create a class called Crickter. An attribute of a Cricketer may be its name , while a method of a crickter may be defined by a .squarecut() method which returns a 4 runs.\n",
    "\n",
    "\n",
    "\n",
    "Attributes\n",
    "The syntax for creating an attribute is:\n",
    "\n",
    "self.attribute = something\n",
    "There is a special method called:\n",
    "\n",
    "__init__()\n",
    "which is used to initialize the attributes of an object. For example:"
   ]
  },
  {
   "cell_type": "code",
   "execution_count": 8,
   "id": "ce06e39e",
   "metadata": {},
   "outputs": [],
   "source": [
    "class crickter(object):\n",
    "    def __init__(self,playername):  #self shoud be the first argument always in the __init__ method.\n",
    "        self.playername= playername \n",
    "        \n",
    "        \n",
    "player1= crickter(playername=\"Virat Kohli\")# Instance 1. Copy one of the class crickter\n",
    "player2= crickter(playername=\"Ms Dhoni\") # Instance 2. Copy one of the class crickter\n"
   ]
  },
  {
   "cell_type": "markdown",
   "id": "95c3b7e0",
   "metadata": {},
   "source": [
    "Lets break down what we have above.The special method\n",
    "\n",
    "__init__() \n",
    "is called automatically right after the object has been created:\n",
    "\n",
    "def __init__(self, breed):\n",
    "Each attribute in a class definition begins with a reference to the instance object. It is by convention named self. The playername  is the argument. The value is passed during the class instantiation.\n",
    "\n",
    " self.playername = palyername\n",
    "Now we have created two instances of the crickter class. With two cricktertypes, we can then access these attributes like this:"
   ]
  },
  {
   "cell_type": "code",
   "execution_count": 11,
   "id": "8e2ee226",
   "metadata": {},
   "outputs": [
    {
     "name": "stdout",
     "output_type": "stream",
     "text": [
      "Virat Kohli\n",
      "Ms Dhoni\n"
     ]
    }
   ],
   "source": [
    "print(player1.playername)\n",
    "print(player2.playername)"
   ]
  },
  {
   "cell_type": "code",
   "execution_count": 12,
   "id": "d7a310a6",
   "metadata": {},
   "outputs": [],
   "source": [
    "class Circle(object):\n",
    "    \n",
    "    pi=3.14\n",
    "    \n",
    "    def __init__(self,radius=1):\n",
    "        self.radius = radius\n",
    "        \n",
    "    def area(self):\n",
    "        return self.radius * self.radius * Circle.pi"
   ]
  },
  {
   "cell_type": "code",
   "execution_count": 13,
   "id": "3a0aaba0",
   "metadata": {},
   "outputs": [],
   "source": [
    "c= Circle(3)"
   ]
  },
  {
   "cell_type": "code",
   "execution_count": 14,
   "id": "1add4443",
   "metadata": {},
   "outputs": [
    {
     "data": {
      "text/plain": [
       "28.26"
      ]
     },
     "execution_count": 14,
     "metadata": {},
     "output_type": "execute_result"
    }
   ],
   "source": [
    "c.area()"
   ]
  },
  {
   "cell_type": "code",
   "execution_count": 19,
   "id": "b6057ce4",
   "metadata": {},
   "outputs": [],
   "source": [
    "class Circle(object):\n",
    "    \n",
    "    pi=3.14#This is a Class-Object attribute.\n",
    "              #It remains same for all the methods within the class\n",
    "    \n",
    "     #Circle get instantiated with a radius (default is 1) agar radius na pass kiya ho toh\n",
    "    def __init__(self,radius=1):\n",
    "        self.radius = radius\n",
    "        \n",
    "    def area(self):\n",
    "        return self.radius * self.radius * Circle.pi\n",
    "    \n",
    "    def setradius(self,radius):\n",
    "           self.radius= radius\n",
    "            \n",
    "    def getradius(self):\n",
    "        return self.radius\n",
    "    \n",
    "    \n",
    "c= Circle(5)\n"
   ]
  },
  {
   "cell_type": "code",
   "execution_count": 24,
   "id": "bb989580",
   "metadata": {},
   "outputs": [
    {
     "data": {
      "text/plain": [
       "314.0"
      ]
     },
     "execution_count": 24,
     "metadata": {},
     "output_type": "execute_result"
    }
   ],
   "source": [
    "c.setradius(10)\n",
    "c.getradius()\n",
    "c.area()\n"
   ]
  },
  {
   "cell_type": "code",
   "execution_count": 22,
   "id": "5718968c",
   "metadata": {},
   "outputs": [
    {
     "data": {
      "text/plain": [
       "28.26"
      ]
     },
     "execution_count": 22,
     "metadata": {},
     "output_type": "execute_result"
    }
   ],
   "source": [
    "c.area()"
   ]
  },
  {
   "cell_type": "code",
   "execution_count": 28,
   "id": "27e3e33a",
   "metadata": {},
   "outputs": [
    {
     "name": "stdout",
     "output_type": "stream",
     "text": [
      "Gurparteek  20  Green land Public School\n",
      "Navpreet 19  Green land Public School\n"
     ]
    }
   ],
   "source": [
    "class student:\n",
    "    \n",
    "    # Class Variable = will remain the same through that particular class\n",
    "    schoolname=\" Green land Public School\"\n",
    "    \n",
    "    def __init__(self,name,age):\n",
    "        \n",
    "        #Insatnce variables\n",
    "        self.name= name\n",
    "        self.age=age\n",
    "        \n",
    "    def show(self):\n",
    "        print(self.name,self.age,student.schoolname)\n",
    "\n",
    "        \n",
    "gurparteek=student(\"Gurparteek \",20)\n",
    "Navpreet=student(\"Navpreet\",19)\n",
    "\n",
    "gurparteek.show()\n",
    "Navpreet.show()\n",
    "    "
   ]
  },
  {
   "cell_type": "markdown",
   "id": "2d9712d5",
   "metadata": {},
   "source": [
    "# Instance vs Class vs Static Methods\n",
    "*Instance methods have access to the instance of the class.\n",
    "\n",
    "*Class methods have access to the class (classes are also objects in Python), but not instances. This is similar to the static methods in Java/C#.\n",
    "\n",
    "*Static methods have no access to either instances or classes. They are more like plain functions, just bounded with the class for scoping"
   ]
  },
  {
   "cell_type": "code",
   "execution_count": 34,
   "id": "2a7123fd",
   "metadata": {},
   "outputs": [
    {
     "name": "stdout",
     "output_type": "stream",
     "text": [
      "Gurparteek  20 GMT\n",
      "Navpreet 19 GMT\n"
     ]
    }
   ],
   "source": [
    "class student:\n",
    "    \n",
    "    # Class Variable = will remain the same through that particular class\n",
    "    schoolname=\" Green land Public School\"\n",
    "    \n",
    "    def __init__(self,name,age):\n",
    "        \n",
    "        #Insatnce variables\n",
    "        self.name= name\n",
    "        self.age=age\n",
    "        \n",
    "    def show(self):\n",
    "        print(self.name,self.age,student.schoolname)\n",
    "        \n",
    "        \n",
    "    @classmethod        # Class method has only access to the class variable that is (schoolname) here in this program.\n",
    "    def change_school(cls,name): # cls is same like self\n",
    "        cls.schoolname=name\n",
    "        \n",
    "    # (Faltu ka)\n",
    "    @staticmethod #*Static methods have no access to either instances or classes. They are more like plain functions, just bounded with the class for scoping\n",
    "    def findnotes(subject_name):\n",
    "        return ['chapter1','chapter2','chapter3']\n",
    "\n",
    "        \n",
    "gurparteek=student(\"Gurparteek \",20)\n",
    "Navpreet=student(\"Navpreet\",19)\n",
    "\n",
    "\n",
    "student.change_school(\"GMT\")\n",
    "gurparteek.show()\n",
    "Navpreet.show()"
   ]
  },
  {
   "cell_type": "code",
   "execution_count": 35,
   "id": "1929ec2a",
   "metadata": {},
   "outputs": [
    {
     "data": {
      "text/plain": [
       "['chapter1', 'chapter2', 'chapter3']"
      ]
     },
     "execution_count": 35,
     "metadata": {},
     "output_type": "execute_result"
    }
   ],
   "source": [
    "gurparteek.findnotes(\"English\")"
   ]
  },
  {
   "cell_type": "code",
   "execution_count": null,
   "id": "b8fc3cc5",
   "metadata": {},
   "outputs": [],
   "source": []
  }
 ],
 "metadata": {
  "kernelspec": {
   "display_name": "Python 3 (ipykernel)",
   "language": "python",
   "name": "python3"
  },
  "language_info": {
   "codemirror_mode": {
    "name": "ipython",
    "version": 3
   },
   "file_extension": ".py",
   "mimetype": "text/x-python",
   "name": "python",
   "nbconvert_exporter": "python",
   "pygments_lexer": "ipython3",
   "version": "3.10.2"
  }
 },
 "nbformat": 4,
 "nbformat_minor": 5
}
