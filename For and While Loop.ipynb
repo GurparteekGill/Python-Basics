{
 "cells": [
  {
   "cell_type": "code",
   "execution_count": 2,
   "id": "41259e2f",
   "metadata": {},
   "outputs": [
    {
     "name": "stdout",
     "output_type": "stream",
     "text": [
      "Piti\n",
      "Piti\n",
      "Piti\n",
      "Piti\n",
      "Piti\n",
      "Piti\n",
      "Piti\n",
      "Piti\n",
      "Piti\n",
      "Piti\n"
     ]
    }
   ],
   "source": [
    "# Syntax: For item in object\n",
    "#               statement\n",
    "\n",
    "\n",
    "for i in range(10):\n",
    "    print(\"Piti\")"
   ]
  },
  {
   "cell_type": "code",
   "execution_count": 6,
   "id": "f9638353",
   "metadata": {},
   "outputs": [
    {
     "name": "stdout",
     "output_type": "stream",
     "text": [
      "THis is 0 user\n",
      "THis is 1 user\n",
      "THis is 2 user\n",
      "THis is 3 user\n",
      "THis is 4 user\n",
      "THis is 5 user\n",
      "THis is 6 user\n",
      "THis is 7 user\n",
      "THis is 8 user\n",
      "THis is 9 user\n"
     ]
    }
   ],
   "source": [
    "users= list(range(10))\n",
    "for use in users:\n",
    "    print(f\"THis is {use} user\")"
   ]
  },
  {
   "cell_type": "code",
   "execution_count": 16,
   "id": "d4a8d675",
   "metadata": {},
   "outputs": [
    {
     "name": "stdout",
     "output_type": "stream",
     "text": [
      "2\n",
      "4\n",
      "5\n",
      "6\n",
      "7\n",
      "8\n",
      "9\n",
      "10\n",
      "2 4 5 This is an odd\n",
      "6 7 This is an odd\n",
      "8 9 This is an odd\n",
      "10 "
     ]
    }
   ],
   "source": [
    "lists=[2,4,5,6,7,8,9,10]\n",
    "for xx in lists:\n",
    "    print(xx)\n",
    "for numbers in lists:\n",
    "    if numbers % 2==0:\n",
    "        print(numbers,end=' ')\n",
    "    else:\n",
    "        print(numbers,\"This is an odd\")\n",
    "        \n",
    "        \n",
    "        \n",
    "            "
   ]
  },
  {
   "cell_type": "code",
   "execution_count": 15,
   "id": "86f0da86",
   "metadata": {},
   "outputs": [
    {
     "name": "stdout",
     "output_type": "stream",
     "text": [
      "y is currently : 0 y is still less than 10,adding 1 to y\n",
      "y is currently : 1 y is still less than 10,adding 1 to y\n",
      "y is currently : 2 y is still less than 10,adding 1 to y\n",
      "y is currently : 3 y is still less than 10,adding 1 to y\n",
      "y is currently : 4 y is still less than 10,adding 1 to y\n",
      "y is currently : 5 y is still less than 10,adding 1 to y\n",
      "y is currently : 6 y is still less than 10,adding 1 to y\n",
      "y is currently : 7 y is still less than 10,adding 1 to y\n",
      "y is currently : 8 y is still less than 10,adding 1 to y\n",
      "y is currently : 9 y is still less than 10,adding 1 to y\n"
     ]
    }
   ],
   "source": [
    "y=0\n",
    "while y<10:\n",
    "    print('y is currently :',y,end=' ')\n",
    "    print('y is still less than 10,adding 1 to y')\n",
    "    y= y+1"
   ]
  },
  {
   "cell_type": "code",
   "execution_count": null,
   "id": "8a2e1feb",
   "metadata": {},
   "outputs": [],
   "source": []
  }
 ],
 "metadata": {
  "kernelspec": {
   "display_name": "Python 3 (ipykernel)",
   "language": "python",
   "name": "python3"
  },
  "language_info": {
   "codemirror_mode": {
    "name": "ipython",
    "version": 3
   },
   "file_extension": ".py",
   "mimetype": "text/x-python",
   "name": "python",
   "nbconvert_exporter": "python",
   "pygments_lexer": "ipython3",
   "version": "3.10.2"
  }
 },
 "nbformat": 4,
 "nbformat_minor": 5
}
