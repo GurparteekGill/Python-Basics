{
 "cells": [
  {
   "cell_type": "markdown",
   "id": "7a17a98b",
   "metadata": {},
   "source": [
    "# Modules, Packages, and import\n",
    "A module is a collection of functions and variables that have been bundled together in a single file. Module helps us:\n",
    "\n",
    "                     Used for code organization, packaging and reusability\n",
    " *Module: A Python file\n",
    " *Package: A folder with an __init__.py file\n",
    " *Namespace is based on file's directory path\n",
    "Module's are usually organised around a theme. Let's see how to use a module. To access our module we will import it using    python's import statement. Math module provides access to the mathematical functions.\n",
    "\n",
    "\n",
    "\n",
    "#Comprehensions¶\n",
    "\n",
    "Python provides syntactic sugar to write small loops to generate lists/sets/tuples/dicts in one line\n",
    "These are called comprehensions, and can greatly increase development speed and readability\n",
    "Syntax:\n",
    "\n",
    "    sequence = [expression(element) for element in iterable if condition]\n",
    "The brackets used for creating the comprehension define what type of object is created.\n",
    "\n",
    "Use [ ] for lists, () for generators, {} for sets and dicts\n",
    "\n",
    "\n",
    "\n",
    "\n"
   ]
  },
  {
   "cell_type": "code",
   "execution_count": 3,
   "id": "9a7b41dd",
   "metadata": {},
   "outputs": [
    {
     "name": "stdout",
     "output_type": "stream",
     "text": [
      "['Hello Gurparteek', 'Hello Sourav Joshi', 'Hello Gourav', 'Hello Gatuam']\n"
     ]
    }
   ],
   "source": [
    "names= [\"Gurparteek\",\"Sourav Joshi\",\"Gourav\",\"Gatuam\"]\n",
    "list=[]\n",
    "for name in names:\n",
    "    list.append(\"Hello \" + name)\n",
    "    \n",
    "print(list)"
   ]
  },
  {
   "cell_type": "code",
   "execution_count": 4,
   "id": "27b52069",
   "metadata": {},
   "outputs": [
    {
     "name": "stdout",
     "output_type": "stream",
     "text": [
      "['Hello Gurparteek', 'Hello Sourav Joshi', 'Hello Gourav', 'Hello Gatuam']\n"
     ]
    }
   ],
   "source": [
    "names= [\"Gurparteek\",\"Sourav Joshi\",\"Gourav\",\"Gatuam\"]\n",
    "list=[\"Hello  \"+ name for name in names]\n",
    "print(list)"
   ]
  },
  {
   "cell_type": "code",
   "execution_count": 9,
   "id": "30818380",
   "metadata": {},
   "outputs": [
    {
     "name": "stdout",
     "output_type": "stream",
     "text": [
      "[66, 34]\n",
      "[23, 45, 89]\n"
     ]
    }
   ],
   "source": [
    "somenumbers=[23,45,66,89,34]\n",
    "even=[ numbers for numbers in somenumbers if numbers % 2==0]\n",
    "print(even)\n",
    "\n",
    "odd=[ numbers for numbers in somenumbers if numbers % 2!=0]\n",
    "print(odd)"
   ]
  },
  {
   "cell_type": "code",
   "execution_count": null,
   "id": "c1cb8192",
   "metadata": {},
   "outputs": [],
   "source": []
  }
 ],
 "metadata": {
  "kernelspec": {
   "display_name": "Python 3 (ipykernel)",
   "language": "python",
   "name": "python3"
  },
  "language_info": {
   "codemirror_mode": {
    "name": "ipython",
    "version": 3
   },
   "file_extension": ".py",
   "mimetype": "text/x-python",
   "name": "python",
   "nbconvert_exporter": "python",
   "pygments_lexer": "ipython3",
   "version": "3.10.2"
  }
 },
 "nbformat": 4,
 "nbformat_minor": 5
}
